{
 "cells": [
  {
   "cell_type": "code",
   "execution_count": 1,
   "id": "ad2dcf43",
   "metadata": {},
   "outputs": [],
   "source": [
    "#!pip install neuralprophet"
   ]
  },
  {
   "cell_type": "code",
   "execution_count": 2,
   "id": "2e71c90a",
   "metadata": {},
   "outputs": [],
   "source": [
    "import matplotlib.pyplot as plt\n",
    "#import geopandas as gpd\n",
    "from neuralprophet import NeuralProphet"
   ]
  },
  {
   "cell_type": "code",
   "execution_count": 3,
   "id": "56faba7b",
   "metadata": {},
   "outputs": [],
   "source": [
    "import pandas as pd\n",
    "import numpy as np\n",
    "import pickle"
   ]
  },
  {
   "cell_type": "code",
   "execution_count": 4,
   "id": "d3b4ad79",
   "metadata": {},
   "outputs": [],
   "source": [
    "#uploading a spreadsheet of earthquakes\n",
    "Quake18 = pd.read_excel(r\"C:\\Users\\yelsk\\Desktop\\programming\\Projects DS\\Equake\\quakes2018.xls\")"
   ]
  },
  {
   "cell_type": "code",
   "execution_count": 5,
   "id": "597eaa71",
   "metadata": {},
   "outputs": [
    {
     "data": {
      "text/html": [
       "<div>\n",
       "<style scoped>\n",
       "    .dataframe tbody tr th:only-of-type {\n",
       "        vertical-align: middle;\n",
       "    }\n",
       "\n",
       "    .dataframe tbody tr th {\n",
       "        vertical-align: top;\n",
       "    }\n",
       "\n",
       "    .dataframe thead th {\n",
       "        text-align: right;\n",
       "    }\n",
       "</style>\n",
       "<table border=\"1\" class=\"dataframe\">\n",
       "  <thead>\n",
       "    <tr style=\"text-align: right;\">\n",
       "      <th></th>\n",
       "      <th>Year</th>\n",
       "      <th>Month</th>\n",
       "      <th>Day</th>\n",
       "      <th>Hour</th>\n",
       "      <th>Min</th>\n",
       "      <th>Sec</th>\n",
       "      <th>Md</th>\n",
       "      <th>Mb</th>\n",
       "      <th>Mw</th>\n",
       "      <th>Depth</th>\n",
       "      <th>Lat</th>\n",
       "      <th>Long</th>\n",
       "      <th>Region</th>\n",
       "    </tr>\n",
       "  </thead>\n",
       "  <tbody>\n",
       "    <tr>\n",
       "      <th>0</th>\n",
       "      <td>Year</td>\n",
       "      <td>Month</td>\n",
       "      <td>Day</td>\n",
       "      <td>Hour</td>\n",
       "      <td>Min</td>\n",
       "      <td>Sec</td>\n",
       "      <td>Md</td>\n",
       "      <td>Mb</td>\n",
       "      <td>Mw</td>\n",
       "      <td>Depth</td>\n",
       "      <td>Lat</td>\n",
       "      <td>Long</td>\n",
       "      <td>Region</td>\n",
       "    </tr>\n",
       "    <tr>\n",
       "      <th>2</th>\n",
       "      <td>2018</td>\n",
       "      <td>1</td>\n",
       "      <td>2</td>\n",
       "      <td>12</td>\n",
       "      <td>49</td>\n",
       "      <td>34.8</td>\n",
       "      <td>NaN</td>\n",
       "      <td>NaN</td>\n",
       "      <td>2.6</td>\n",
       "      <td>80</td>\n",
       "      <td>33.6434</td>\n",
       "      <td>29.5461</td>\n",
       "      <td>E.Mediter.Sea</td>\n",
       "    </tr>\n",
       "    <tr>\n",
       "      <th>3</th>\n",
       "      <td>2018</td>\n",
       "      <td>1</td>\n",
       "      <td>2</td>\n",
       "      <td>17</td>\n",
       "      <td>10</td>\n",
       "      <td>56.3</td>\n",
       "      <td>NaN</td>\n",
       "      <td>NaN</td>\n",
       "      <td>1.1</td>\n",
       "      <td>17</td>\n",
       "      <td>32.9713</td>\n",
       "      <td>35.6112</td>\n",
       "      <td>Hula-Kinneret</td>\n",
       "    </tr>\n",
       "    <tr>\n",
       "      <th>4</th>\n",
       "      <td>2018</td>\n",
       "      <td>1</td>\n",
       "      <td>5</td>\n",
       "      <td>3</td>\n",
       "      <td>17</td>\n",
       "      <td>18.6</td>\n",
       "      <td>3.4</td>\n",
       "      <td>NaN</td>\n",
       "      <td>NaN</td>\n",
       "      <td>3</td>\n",
       "      <td>35.6572</td>\n",
       "      <td>28.7057</td>\n",
       "      <td>E.Mediter.Sea</td>\n",
       "    </tr>\n",
       "  </tbody>\n",
       "</table>\n",
       "</div>"
      ],
      "text/plain": [
       "0  Year  Month  Day  Hour  Min   Sec   Md   Mb   Mw  Depth      Lat     Long  \\\n",
       "0  Year  Month  Day  Hour  Min   Sec   Md   Mb   Mw  Depth      Lat     Long   \n",
       "2  2018      1    2    12   49  34.8  NaN  NaN  2.6     80  33.6434  29.5461   \n",
       "3  2018      1    2    17   10  56.3  NaN  NaN  1.1     17  32.9713  35.6112   \n",
       "4  2018      1    5     3   17  18.6  3.4  NaN  NaN      3  35.6572  28.7057   \n",
       "\n",
       "0         Region  \n",
       "0         Region  \n",
       "2  E.Mediter.Sea  \n",
       "3  Hula-Kinneret  \n",
       "4  E.Mediter.Sea  "
      ]
     },
     "execution_count": 5,
     "metadata": {},
     "output_type": "execute_result"
    }
   ],
   "source": [
    "#defining a 0th row to column headers\n",
    "Quake18.columns = Quake18.iloc[0]\n",
    "\n",
    "#deleting columns with no coordinates and no magnitude\n",
    "Quake18 = Quake18.dropna(subset=['Lat', 'Long'], how='all')\n",
    "Quake18 = Quake18.dropna(subset=['Md', 'Mb', 'Mw'], how='all')\n",
    "\n",
    "#droping  felt column\n",
    "del Quake18['Felt']\n",
    "Quake18.head(4)"
   ]
  },
  {
   "cell_type": "code",
   "execution_count": 6,
   "id": "7277c748",
   "metadata": {},
   "outputs": [
    {
     "data": {
      "text/html": [
       "<div>\n",
       "<style scoped>\n",
       "    .dataframe tbody tr th:only-of-type {\n",
       "        vertical-align: middle;\n",
       "    }\n",
       "\n",
       "    .dataframe tbody tr th {\n",
       "        vertical-align: top;\n",
       "    }\n",
       "\n",
       "    .dataframe thead th {\n",
       "        text-align: right;\n",
       "    }\n",
       "</style>\n",
       "<table border=\"1\" class=\"dataframe\">\n",
       "  <thead>\n",
       "    <tr style=\"text-align: right;\">\n",
       "      <th></th>\n",
       "      <th>Year</th>\n",
       "      <th>Month</th>\n",
       "      <th>Day</th>\n",
       "      <th>Hour</th>\n",
       "      <th>Min</th>\n",
       "      <th>Sec</th>\n",
       "      <th>Md</th>\n",
       "      <th>Mb</th>\n",
       "      <th>Mw</th>\n",
       "      <th>Depth</th>\n",
       "      <th>Lat</th>\n",
       "      <th>Long</th>\n",
       "      <th>Region</th>\n",
       "    </tr>\n",
       "  </thead>\n",
       "  <tbody>\n",
       "    <tr>\n",
       "      <th>2</th>\n",
       "      <td>2018</td>\n",
       "      <td>1</td>\n",
       "      <td>2</td>\n",
       "      <td>12</td>\n",
       "      <td>49</td>\n",
       "      <td>34.8</td>\n",
       "      <td>NaN</td>\n",
       "      <td>NaN</td>\n",
       "      <td>2.6</td>\n",
       "      <td>80</td>\n",
       "      <td>33.6434</td>\n",
       "      <td>29.5461</td>\n",
       "      <td>E.Mediter.Sea</td>\n",
       "    </tr>\n",
       "    <tr>\n",
       "      <th>3</th>\n",
       "      <td>2018</td>\n",
       "      <td>1</td>\n",
       "      <td>2</td>\n",
       "      <td>17</td>\n",
       "      <td>10</td>\n",
       "      <td>56.3</td>\n",
       "      <td>NaN</td>\n",
       "      <td>NaN</td>\n",
       "      <td>1.1</td>\n",
       "      <td>17</td>\n",
       "      <td>32.9713</td>\n",
       "      <td>35.6112</td>\n",
       "      <td>Hula-Kinneret</td>\n",
       "    </tr>\n",
       "    <tr>\n",
       "      <th>4</th>\n",
       "      <td>2018</td>\n",
       "      <td>1</td>\n",
       "      <td>5</td>\n",
       "      <td>3</td>\n",
       "      <td>17</td>\n",
       "      <td>18.6</td>\n",
       "      <td>3.4</td>\n",
       "      <td>NaN</td>\n",
       "      <td>NaN</td>\n",
       "      <td>3</td>\n",
       "      <td>35.6572</td>\n",
       "      <td>28.7057</td>\n",
       "      <td>E.Mediter.Sea</td>\n",
       "    </tr>\n",
       "    <tr>\n",
       "      <th>5</th>\n",
       "      <td>2018</td>\n",
       "      <td>1</td>\n",
       "      <td>5</td>\n",
       "      <td>4</td>\n",
       "      <td>33</td>\n",
       "      <td>17.9</td>\n",
       "      <td>NaN</td>\n",
       "      <td>NaN</td>\n",
       "      <td>4</td>\n",
       "      <td>10</td>\n",
       "      <td>36.8857</td>\n",
       "      <td>28.3754</td>\n",
       "      <td>Turkey</td>\n",
       "    </tr>\n",
       "    <tr>\n",
       "      <th>6</th>\n",
       "      <td>2018</td>\n",
       "      <td>1</td>\n",
       "      <td>5</td>\n",
       "      <td>12</td>\n",
       "      <td>58</td>\n",
       "      <td>6.3</td>\n",
       "      <td>3.4</td>\n",
       "      <td>NaN</td>\n",
       "      <td>NaN</td>\n",
       "      <td>0</td>\n",
       "      <td>35.6587</td>\n",
       "      <td>28.2143</td>\n",
       "      <td>E.Mediter.Sea</td>\n",
       "    </tr>\n",
       "  </tbody>\n",
       "</table>\n",
       "</div>"
      ],
      "text/plain": [
       "0  Year Month Day Hour Min   Sec   Md   Mb   Mw Depth      Lat     Long  \\\n",
       "2  2018     1   2   12  49  34.8  NaN  NaN  2.6    80  33.6434  29.5461   \n",
       "3  2018     1   2   17  10  56.3  NaN  NaN  1.1    17  32.9713  35.6112   \n",
       "4  2018     1   5    3  17  18.6  3.4  NaN  NaN     3  35.6572  28.7057   \n",
       "5  2018     1   5    4  33  17.9  NaN  NaN    4    10  36.8857  28.3754   \n",
       "6  2018     1   5   12  58   6.3  3.4  NaN  NaN     0  35.6587  28.2143   \n",
       "\n",
       "0         Region  \n",
       "2  E.Mediter.Sea  \n",
       "3  Hula-Kinneret  \n",
       "4  E.Mediter.Sea  \n",
       "5         Turkey  \n",
       "6  E.Mediter.Sea  "
      ]
     },
     "execution_count": 6,
     "metadata": {},
     "output_type": "execute_result"
    }
   ],
   "source": [
    "#droping  0th row - containing column names\n",
    "Quakeplt=Quake18.drop(labels=0, axis=0)\n",
    "Quakeplt.head()"
   ]
  },
  {
   "cell_type": "code",
   "execution_count": 7,
   "id": "54ead20d",
   "metadata": {},
   "outputs": [
    {
     "data": {
      "image/png": "[encoded data removed]",
      "text/plain": [
       "<Figure size 1296x1152 with 1 Axes>"
      ]
     },
     "metadata": {
      "needs_background": "light"
     },
     "output_type": "display_data"
    }
   ],
   "source": [
    "#plotting earthquake's locations\n",
    "Quakeplt.plot(kind='scatter', x='Lat', y='Long', figsize=(18, 16))\n",
    "plt.title('coordinates')\n",
    "plt.xlabel('latitude')\n",
    "plt.ylabel('longitude')\n",
    "\n",
    "plt.show()"
   ]
  },
  {
   "cell_type": "code",
   "execution_count": 8,
   "id": "b3aae5d0",
   "metadata": {},
   "outputs": [
    {
     "data": {
      "text/plain": [
       "array(['E.Mediter.Sea', 'Hula-Kinneret', 'Turkey', 'Roum', nan, 'Arava',\n",
       "       'Carmel-Tirza', 'Iraq', 'Yamune', 'Galilee', 'Jordan-valley',\n",
       "       'Egypt', 'Cyprus', 'E.Shomron', 'Judea-Samaria', 'Arif-fault',\n",
       "       'Dead-Sea-Basin', 'Red-Sea', 'Suez', 'W.sirhan', 'Eilat-Deep',\n",
       "       'Central-Israel', 'Sinai', 'Aragonese_Deep', 'East-Sinai',\n",
       "       'Barak-fault', 'Palmira', 'Saudi-Arabia', 'Lebanon', 'W.Sirhan',\n",
       "       'Syria', 'Negev', 'Sharon', 'Thamad', 'Northen-Jordan',\n",
       "       'Paran-fault', 'Aragonese-Deep', 'Jordan-Valley', 'Jordan',\n",
       "       'Arnona-Dakar-Deep', 'arava'], dtype=object)"
      ]
     },
     "execution_count": 8,
     "metadata": {},
     "output_type": "execute_result"
    }
   ],
   "source": [
    "#list of all region names in a dataframe\n",
    "Quakeplt['Region'].unique()"
   ]
  },
  {
   "cell_type": "code",
   "execution_count": 9,
   "id": "a02efe4f",
   "metadata": {},
   "outputs": [
    {
     "data": {
      "text/html": [
       "<div>\n",
       "<style scoped>\n",
       "    .dataframe tbody tr th:only-of-type {\n",
       "        vertical-align: middle;\n",
       "    }\n",
       "\n",
       "    .dataframe tbody tr th {\n",
       "        vertical-align: top;\n",
       "    }\n",
       "\n",
       "    .dataframe thead th {\n",
       "        text-align: right;\n",
       "    }\n",
       "</style>\n",
       "<table border=\"1\" class=\"dataframe\">\n",
       "  <thead>\n",
       "    <tr style=\"text-align: right;\">\n",
       "      <th></th>\n",
       "      <th>Year</th>\n",
       "      <th>Month</th>\n",
       "      <th>Day</th>\n",
       "      <th>Hour</th>\n",
       "      <th>Min</th>\n",
       "      <th>Sec</th>\n",
       "      <th>Md</th>\n",
       "      <th>Mb</th>\n",
       "      <th>Mw</th>\n",
       "      <th>Depth</th>\n",
       "      <th>Lat</th>\n",
       "      <th>Long</th>\n",
       "      <th>Region</th>\n",
       "    </tr>\n",
       "  </thead>\n",
       "  <tbody>\n",
       "    <tr>\n",
       "      <th>88</th>\n",
       "      <td>2018</td>\n",
       "      <td>2</td>\n",
       "      <td>1</td>\n",
       "      <td>17</td>\n",
       "      <td>20</td>\n",
       "      <td>58.5</td>\n",
       "      <td>NaN</td>\n",
       "      <td>NaN</td>\n",
       "      <td>1.7</td>\n",
       "      <td>2</td>\n",
       "      <td>30.965</td>\n",
       "      <td>35.3953</td>\n",
       "      <td>Dead-Sea-Basin</td>\n",
       "    </tr>\n",
       "    <tr>\n",
       "      <th>100</th>\n",
       "      <td>2018</td>\n",
       "      <td>2</td>\n",
       "      <td>5</td>\n",
       "      <td>1</td>\n",
       "      <td>38</td>\n",
       "      <td>37.1</td>\n",
       "      <td>NaN</td>\n",
       "      <td>NaN</td>\n",
       "      <td>1.4</td>\n",
       "      <td>8</td>\n",
       "      <td>31.5136</td>\n",
       "      <td>35.5269</td>\n",
       "      <td>Dead-Sea-Basin</td>\n",
       "    </tr>\n",
       "    <tr>\n",
       "      <th>115</th>\n",
       "      <td>2018</td>\n",
       "      <td>2</td>\n",
       "      <td>10</td>\n",
       "      <td>4</td>\n",
       "      <td>19</td>\n",
       "      <td>42.5</td>\n",
       "      <td>2.3</td>\n",
       "      <td>NaN</td>\n",
       "      <td>2.4</td>\n",
       "      <td>21</td>\n",
       "      <td>31.1</td>\n",
       "      <td>35.5186</td>\n",
       "      <td>Dead-Sea-Basin</td>\n",
       "    </tr>\n",
       "    <tr>\n",
       "      <th>170</th>\n",
       "      <td>2018</td>\n",
       "      <td>2</td>\n",
       "      <td>26</td>\n",
       "      <td>20</td>\n",
       "      <td>9</td>\n",
       "      <td>24.4</td>\n",
       "      <td>NaN</td>\n",
       "      <td>NaN</td>\n",
       "      <td>1.1</td>\n",
       "      <td>24</td>\n",
       "      <td>31.2394</td>\n",
       "      <td>35.4168</td>\n",
       "      <td>Dead-Sea-Basin</td>\n",
       "    </tr>\n",
       "    <tr>\n",
       "      <th>226</th>\n",
       "      <td>2018</td>\n",
       "      <td>3</td>\n",
       "      <td>19</td>\n",
       "      <td>11</td>\n",
       "      <td>36</td>\n",
       "      <td>32.6</td>\n",
       "      <td>NaN</td>\n",
       "      <td>NaN</td>\n",
       "      <td>1.1</td>\n",
       "      <td>17</td>\n",
       "      <td>31.1592</td>\n",
       "      <td>35.4171</td>\n",
       "      <td>Dead-Sea-Basin</td>\n",
       "    </tr>\n",
       "  </tbody>\n",
       "</table>\n",
       "</div>"
      ],
      "text/plain": [
       "0    Year Month Day Hour Min   Sec   Md   Mb   Mw Depth      Lat     Long  \\\n",
       "88   2018     2   1   17  20  58.5  NaN  NaN  1.7     2   30.965  35.3953   \n",
       "100  2018     2   5    1  38  37.1  NaN  NaN  1.4     8  31.5136  35.5269   \n",
       "115  2018     2  10    4  19  42.5  2.3  NaN  2.4    21     31.1  35.5186   \n",
       "170  2018     2  26   20   9  24.4  NaN  NaN  1.1    24  31.2394  35.4168   \n",
       "226  2018     3  19   11  36  32.6  NaN  NaN  1.1    17  31.1592  35.4171   \n",
       "\n",
       "0            Region  \n",
       "88   Dead-Sea-Basin  \n",
       "100  Dead-Sea-Basin  \n",
       "115  Dead-Sea-Basin  \n",
       "170  Dead-Sea-Basin  \n",
       "226  Dead-Sea-Basin  "
      ]
     },
     "execution_count": 9,
     "metadata": {},
     "output_type": "execute_result"
    }
   ],
   "source": [
    "# earthquakes in 'arava' and 'jordan valley' regions\n",
    "Quake_aravajordanvalley=Quakeplt.loc[Quakeplt['Region'].isin(['Arava','Jordan-valley'])]\n",
    "\n",
    "#only earthquakes in a dead sea region\n",
    "Quake_DS=Quakeplt.loc[Quakeplt['Region']=='Dead-Sea-Basin']\n",
    "Quake_DS.head()"
   ]
  },
  {
   "cell_type": "code",
   "execution_count": 10,
   "id": "c42e3dce",
   "metadata": {},
   "outputs": [
    {
     "data": {
      "image/png": "[encoded data removed]",
      "text/plain": [
       "<Figure size 1296x1152 with 1 Axes>"
      ]
     },
     "metadata": {
      "needs_background": "light"
     },
     "output_type": "display_data"
    }
   ],
   "source": [
    "#plotting earthquake's locations of dead sea valley\n",
    "Quake_DS.plot(kind='scatter', x='Lat', y='Long',figsize=(18, 16),c='coral')\n",
    "#Quake_aravajordanvalley\n",
    "plt.title('coordinates')\n",
    "plt.xlabel('latitude')\n",
    "plt.ylabel('longitude')\n",
    "\n",
    "plt.show()"
   ]
  },
  {
   "cell_type": "code",
   "execution_count": 11,
   "id": "c26981ea",
   "metadata": {},
   "outputs": [
    {
     "data": {
      "text/html": [
       "<div>\n",
       "<style scoped>\n",
       "    .dataframe tbody tr th:only-of-type {\n",
       "        vertical-align: middle;\n",
       "    }\n",
       "\n",
       "    .dataframe tbody tr th {\n",
       "        vertical-align: top;\n",
       "    }\n",
       "\n",
       "    .dataframe thead th {\n",
       "        text-align: right;\n",
       "    }\n",
       "</style>\n",
       "<table border=\"1\" class=\"dataframe\">\n",
       "  <thead>\n",
       "    <tr style=\"text-align: right;\">\n",
       "      <th></th>\n",
       "      <th>Year</th>\n",
       "      <th>Month</th>\n",
       "      <th>Day</th>\n",
       "      <th>Hour</th>\n",
       "      <th>Min</th>\n",
       "      <th>Sec</th>\n",
       "      <th>Md</th>\n",
       "      <th>Mb</th>\n",
       "      <th>Mw</th>\n",
       "      <th>Depth</th>\n",
       "      <th>Lat</th>\n",
       "      <th>Long</th>\n",
       "      <th>Region</th>\n",
       "      <th>Time</th>\n",
       "      <th>Datetime</th>\n",
       "    </tr>\n",
       "  </thead>\n",
       "  <tbody>\n",
       "    <tr>\n",
       "      <th>2</th>\n",
       "      <td>2018</td>\n",
       "      <td>1</td>\n",
       "      <td>2</td>\n",
       "      <td>12</td>\n",
       "      <td>49</td>\n",
       "      <td>34.8</td>\n",
       "      <td>NaN</td>\n",
       "      <td>NaN</td>\n",
       "      <td>2.6</td>\n",
       "      <td>80</td>\n",
       "      <td>33.6434</td>\n",
       "      <td>29.5461</td>\n",
       "      <td>E.Mediter.Sea</td>\n",
       "      <td>12:49:34</td>\n",
       "      <td>2018-01-02 12:49:34</td>\n",
       "    </tr>\n",
       "    <tr>\n",
       "      <th>3</th>\n",
       "      <td>2018</td>\n",
       "      <td>1</td>\n",
       "      <td>2</td>\n",
       "      <td>17</td>\n",
       "      <td>10</td>\n",
       "      <td>56.3</td>\n",
       "      <td>NaN</td>\n",
       "      <td>NaN</td>\n",
       "      <td>1.1</td>\n",
       "      <td>17</td>\n",
       "      <td>32.9713</td>\n",
       "      <td>35.6112</td>\n",
       "      <td>Hula-Kinneret</td>\n",
       "      <td>17:10:56</td>\n",
       "      <td>2018-01-02 17:10:56</td>\n",
       "    </tr>\n",
       "    <tr>\n",
       "      <th>4</th>\n",
       "      <td>2018</td>\n",
       "      <td>1</td>\n",
       "      <td>5</td>\n",
       "      <td>3</td>\n",
       "      <td>17</td>\n",
       "      <td>18.6</td>\n",
       "      <td>3.4</td>\n",
       "      <td>NaN</td>\n",
       "      <td>NaN</td>\n",
       "      <td>3</td>\n",
       "      <td>35.6572</td>\n",
       "      <td>28.7057</td>\n",
       "      <td>E.Mediter.Sea</td>\n",
       "      <td>3:17:18</td>\n",
       "      <td>2018-01-05 03:17:18</td>\n",
       "    </tr>\n",
       "    <tr>\n",
       "      <th>5</th>\n",
       "      <td>2018</td>\n",
       "      <td>1</td>\n",
       "      <td>5</td>\n",
       "      <td>4</td>\n",
       "      <td>33</td>\n",
       "      <td>17.9</td>\n",
       "      <td>NaN</td>\n",
       "      <td>NaN</td>\n",
       "      <td>4</td>\n",
       "      <td>10</td>\n",
       "      <td>36.8857</td>\n",
       "      <td>28.3754</td>\n",
       "      <td>Turkey</td>\n",
       "      <td>4:33:17</td>\n",
       "      <td>2018-01-05 04:33:17</td>\n",
       "    </tr>\n",
       "    <tr>\n",
       "      <th>6</th>\n",
       "      <td>2018</td>\n",
       "      <td>1</td>\n",
       "      <td>5</td>\n",
       "      <td>12</td>\n",
       "      <td>58</td>\n",
       "      <td>6.3</td>\n",
       "      <td>3.4</td>\n",
       "      <td>NaN</td>\n",
       "      <td>NaN</td>\n",
       "      <td>0</td>\n",
       "      <td>35.6587</td>\n",
       "      <td>28.2143</td>\n",
       "      <td>E.Mediter.Sea</td>\n",
       "      <td>12:58:6</td>\n",
       "      <td>2018-01-05 12:58:06</td>\n",
       "    </tr>\n",
       "  </tbody>\n",
       "</table>\n",
       "</div>"
      ],
      "text/plain": [
       "0  Year Month Day Hour Min   Sec   Md   Mb   Mw Depth      Lat     Long  \\\n",
       "2  2018     1   2   12  49  34.8  NaN  NaN  2.6    80  33.6434  29.5461   \n",
       "3  2018     1   2   17  10  56.3  NaN  NaN  1.1    17  32.9713  35.6112   \n",
       "4  2018     1   5    3  17  18.6  3.4  NaN  NaN     3  35.6572  28.7057   \n",
       "5  2018     1   5    4  33  17.9  NaN  NaN    4    10  36.8857  28.3754   \n",
       "6  2018     1   5   12  58   6.3  3.4  NaN  NaN     0  35.6587  28.2143   \n",
       "\n",
       "0         Region      Time            Datetime  \n",
       "2  E.Mediter.Sea  12:49:34 2018-01-02 12:49:34  \n",
       "3  Hula-Kinneret  17:10:56 2018-01-02 17:10:56  \n",
       "4  E.Mediter.Sea   3:17:18 2018-01-05 03:17:18  \n",
       "5         Turkey   4:33:17 2018-01-05 04:33:17  \n",
       "6  E.Mediter.Sea   12:58:6 2018-01-05 12:58:06  "
      ]
     },
     "execution_count": 11,
     "metadata": {},
     "output_type": "execute_result"
    }
   ],
   "source": [
    "#time column from 'Hour', 'Min', 'Sec' columns\n",
    "Quakeplt['Time'] = Quakeplt['Hour'].astype(str) + ':' + Quakeplt['Min'].astype(str) + ':' + Quakeplt['Sec'].apply(np.floor).astype(str) #round seconds down\n",
    "\n",
    "#creating timesatnps out of 'Year', 'Month', 'Day', 'Hour', 'Min', 'Sec' columns\n",
    "Quakeplt['Datetime'] = pd.to_datetime(Quakeplt[['Day','Month','Year', 'Time']].astype(str).apply(' '.join, 1), format='%d %m %Y %H:%M:%S')\n",
    "Quakeplt.head()\n",
    "\n",
    "#to display column names\n",
    "#Quakeplt.columns"
   ]
  },
  {
   "cell_type": "code",
   "execution_count": 12,
   "id": "099bef32",
   "metadata": {},
   "outputs": [
    {
     "data": {
      "image/png": "[encoded data removed]",
      "text/plain": [
       "<Figure size 1296x1152 with 1 Axes>"
      ]
     },
     "metadata": {
      "needs_background": "light"
     },
     "output_type": "display_data"
    }
   ],
   "source": [
    "#plotting earthquake's magnitude(Mw) vs time in 2018\n",
    "Quakeplt.plot(kind='scatter', x='Datetime', y='Mw',figsize=(18, 16),c='red')\n",
    "plt.title('magnitudes v.time 2018')\n",
    "plt.xlabel('date')\n",
    "plt.ylabel('magnitude')\n",
    "\n",
    "plt.show()"
   ]
  },
  {
   "cell_type": "code",
   "execution_count": 13,
   "id": "e3b7dbef",
   "metadata": {},
   "outputs": [
    {
     "data": {
      "text/html": [
       "<div>\n",
       "<style scoped>\n",
       "    .dataframe tbody tr th:only-of-type {\n",
       "        vertical-align: middle;\n",
       "    }\n",
       "\n",
       "    .dataframe tbody tr th {\n",
       "        vertical-align: top;\n",
       "    }\n",
       "\n",
       "    .dataframe thead th {\n",
       "        text-align: right;\n",
       "    }\n",
       "</style>\n",
       "<table border=\"1\" class=\"dataframe\">\n",
       "  <thead>\n",
       "    <tr style=\"text-align: right;\">\n",
       "      <th></th>\n",
       "      <th>Year</th>\n",
       "      <th>Month</th>\n",
       "      <th>Day</th>\n",
       "      <th>Hour</th>\n",
       "      <th>Min</th>\n",
       "      <th>Sec</th>\n",
       "      <th>Md</th>\n",
       "      <th>Mb</th>\n",
       "      <th>Mw</th>\n",
       "      <th>Depth</th>\n",
       "      <th>Lat</th>\n",
       "      <th>Long</th>\n",
       "      <th>Region</th>\n",
       "      <th>Time</th>\n",
       "      <th>Datetime</th>\n",
       "    </tr>\n",
       "  </thead>\n",
       "  <tbody>\n",
       "    <tr>\n",
       "      <th>2</th>\n",
       "      <td>2018</td>\n",
       "      <td>1</td>\n",
       "      <td>2</td>\n",
       "      <td>12</td>\n",
       "      <td>49</td>\n",
       "      <td>34.8</td>\n",
       "      <td>NaN</td>\n",
       "      <td>NaN</td>\n",
       "      <td>2.6</td>\n",
       "      <td>80</td>\n",
       "      <td>33.6434</td>\n",
       "      <td>29.5461</td>\n",
       "      <td>E.Mediter.Sea</td>\n",
       "      <td>12:49:34</td>\n",
       "      <td>2018-01-02 12:49:34</td>\n",
       "    </tr>\n",
       "    <tr>\n",
       "      <th>3</th>\n",
       "      <td>2018</td>\n",
       "      <td>1</td>\n",
       "      <td>2</td>\n",
       "      <td>17</td>\n",
       "      <td>10</td>\n",
       "      <td>56.3</td>\n",
       "      <td>NaN</td>\n",
       "      <td>NaN</td>\n",
       "      <td>1.1</td>\n",
       "      <td>17</td>\n",
       "      <td>32.9713</td>\n",
       "      <td>35.6112</td>\n",
       "      <td>Hula-Kinneret</td>\n",
       "      <td>17:10:56</td>\n",
       "      <td>2018-01-02 17:10:56</td>\n",
       "    </tr>\n",
       "    <tr>\n",
       "      <th>4</th>\n",
       "      <td>2018</td>\n",
       "      <td>1</td>\n",
       "      <td>5</td>\n",
       "      <td>3</td>\n",
       "      <td>17</td>\n",
       "      <td>18.6</td>\n",
       "      <td>3.4</td>\n",
       "      <td>NaN</td>\n",
       "      <td>NaN</td>\n",
       "      <td>3</td>\n",
       "      <td>35.6572</td>\n",
       "      <td>28.7057</td>\n",
       "      <td>E.Mediter.Sea</td>\n",
       "      <td>3:17:18</td>\n",
       "      <td>2018-01-05 03:17:18</td>\n",
       "    </tr>\n",
       "    <tr>\n",
       "      <th>5</th>\n",
       "      <td>2018</td>\n",
       "      <td>1</td>\n",
       "      <td>5</td>\n",
       "      <td>4</td>\n",
       "      <td>33</td>\n",
       "      <td>17.9</td>\n",
       "      <td>NaN</td>\n",
       "      <td>NaN</td>\n",
       "      <td>4</td>\n",
       "      <td>10</td>\n",
       "      <td>36.8857</td>\n",
       "      <td>28.3754</td>\n",
       "      <td>Turkey</td>\n",
       "      <td>4:33:17</td>\n",
       "      <td>2018-01-05 04:33:17</td>\n",
       "    </tr>\n",
       "    <tr>\n",
       "      <th>6</th>\n",
       "      <td>2018</td>\n",
       "      <td>1</td>\n",
       "      <td>5</td>\n",
       "      <td>12</td>\n",
       "      <td>58</td>\n",
       "      <td>6.3</td>\n",
       "      <td>3.4</td>\n",
       "      <td>NaN</td>\n",
       "      <td>NaN</td>\n",
       "      <td>0</td>\n",
       "      <td>35.6587</td>\n",
       "      <td>28.2143</td>\n",
       "      <td>E.Mediter.Sea</td>\n",
       "      <td>12:58:6</td>\n",
       "      <td>2018-01-05 12:58:06</td>\n",
       "    </tr>\n",
       "  </tbody>\n",
       "</table>\n",
       "</div>"
      ],
      "text/plain": [
       "0  Year Month Day Hour Min   Sec   Md   Mb   Mw Depth      Lat     Long  \\\n",
       "2  2018     1   2   12  49  34.8  NaN  NaN  2.6    80  33.6434  29.5461   \n",
       "3  2018     1   2   17  10  56.3  NaN  NaN  1.1    17  32.9713  35.6112   \n",
       "4  2018     1   5    3  17  18.6  3.4  NaN  NaN     3  35.6572  28.7057   \n",
       "5  2018     1   5    4  33  17.9  NaN  NaN    4    10  36.8857  28.3754   \n",
       "6  2018     1   5   12  58   6.3  3.4  NaN  NaN     0  35.6587  28.2143   \n",
       "\n",
       "0         Region      Time            Datetime  \n",
       "2  E.Mediter.Sea  12:49:34 2018-01-02 12:49:34  \n",
       "3  Hula-Kinneret  17:10:56 2018-01-02 17:10:56  \n",
       "4  E.Mediter.Sea   3:17:18 2018-01-05 03:17:18  \n",
       "5         Turkey   4:33:17 2018-01-05 04:33:17  \n",
       "6  E.Mediter.Sea   12:58:6 2018-01-05 12:58:06  "
      ]
     },
     "execution_count": 13,
     "metadata": {},
     "output_type": "execute_result"
    }
   ],
   "source": [
    "#all earthquakes (not only arave even though the name has _Ar in it)\n",
    "Quake_Ar=Quakeplt\n",
    "##only earthquakes in Arava/(dead sea) region\n",
    "#Quake_Ar=Quakeplt.loc[Quakeplt['Region']=='Arava']\n",
    "Quake_Ar.head()"
   ]
  },
  {
   "cell_type": "code",
   "execution_count": 14,
   "id": "c3ff44e2",
   "metadata": {},
   "outputs": [
    {
     "data": {
      "image/png": "[encoded data removed]",
      "text/plain": [
       "<Figure size 1296x720 with 1 Axes>"
      ]
     },
     "metadata": {
      "needs_background": "light"
     },
     "output_type": "display_data"
    }
   ],
   "source": [
    "#plotting earthquake's magnitude(Mw) vs time in 2018 of dead sea basin\n",
    "Quake_Ar.plot(kind='scatter', x='Datetime', y='Mw',figsize=(18, 10),c='red')\n",
    "plt.title('magnitudes v.time 2018')\n",
    "plt.xlabel('date')\n",
    "plt.ylabel('magnitude')\n",
    "\n",
    "plt.show()"
   ]
  },
  {
   "cell_type": "code",
   "execution_count": 15,
   "id": "832bd4a6",
   "metadata": {},
   "outputs": [
    {
     "data": {
      "text/plain": [
       "0\n",
       "Year                object\n",
       "Month               object\n",
       "Day                 object\n",
       "Hour                object\n",
       "Min                 object\n",
       "Sec                 object\n",
       "Md                  object\n",
       "Mb                  object\n",
       "Mw                  object\n",
       "Depth               object\n",
       "Lat                 object\n",
       "Long                object\n",
       "Region              object\n",
       "Time                object\n",
       "Datetime    datetime64[ns]\n",
       "dtype: object"
      ]
     },
     "execution_count": 15,
     "metadata": {},
     "output_type": "execute_result"
    }
   ],
   "source": [
    "#checking data types in a dataframe\n",
    "Quake_Ar.dtypes"
   ]
  },
  {
   "cell_type": "code",
   "execution_count": 16,
   "id": "fc9abc4b",
   "metadata": {},
   "outputs": [
    {
     "name": "stderr",
     "output_type": "stream",
     "text": [
      "WARNING - (py.warnings._showwarnmsg) - C:\\Users\\yelsk\\anaconda3\\lib\\site-packages\\pandas\\util\\_decorators.py:311: SettingWithCopyWarning: \n",
      "A value is trying to be set on a copy of a slice from a DataFrame\n",
      "\n",
      "See the caveats in the documentation: https://pandas.pydata.org/pandas-docs/stable/user_guide/indexing.html#returning-a-view-versus-a-copy\n",
      "  return func(*args, **kwargs)\n",
      "\n"
     ]
    },
    {
     "data": {
      "text/html": [
       "<div>\n",
       "<style scoped>\n",
       "    .dataframe tbody tr th:only-of-type {\n",
       "        vertical-align: middle;\n",
       "    }\n",
       "\n",
       "    .dataframe tbody tr th {\n",
       "        vertical-align: top;\n",
       "    }\n",
       "\n",
       "    .dataframe thead th {\n",
       "        text-align: right;\n",
       "    }\n",
       "</style>\n",
       "<table border=\"1\" class=\"dataframe\">\n",
       "  <thead>\n",
       "    <tr style=\"text-align: right;\">\n",
       "      <th></th>\n",
       "      <th>ds</th>\n",
       "      <th>y</th>\n",
       "    </tr>\n",
       "  </thead>\n",
       "  <tbody>\n",
       "    <tr>\n",
       "      <th>2</th>\n",
       "      <td>2018-01-02 12:49:34</td>\n",
       "      <td>2.6</td>\n",
       "    </tr>\n",
       "    <tr>\n",
       "      <th>3</th>\n",
       "      <td>2018-01-02 17:10:56</td>\n",
       "      <td>1.1</td>\n",
       "    </tr>\n",
       "    <tr>\n",
       "      <th>5</th>\n",
       "      <td>2018-01-05 04:33:17</td>\n",
       "      <td>4</td>\n",
       "    </tr>\n",
       "    <tr>\n",
       "      <th>7</th>\n",
       "      <td>2018-01-06 00:07:14</td>\n",
       "      <td>2.4</td>\n",
       "    </tr>\n",
       "    <tr>\n",
       "      <th>9</th>\n",
       "      <td>2018-01-06 19:21:12</td>\n",
       "      <td>2</td>\n",
       "    </tr>\n",
       "  </tbody>\n",
       "</table>\n",
       "</div>"
      ],
      "text/plain": [
       "                   ds    y\n",
       "2 2018-01-02 12:49:34  2.6\n",
       "3 2018-01-02 17:10:56  1.1\n",
       "5 2018-01-05 04:33:17    4\n",
       "7 2018-01-06 00:07:14  2.4\n",
       "9 2018-01-06 19:21:12    2"
      ]
     },
     "execution_count": 16,
     "metadata": {},
     "output_type": "execute_result"
    }
   ],
   "source": [
    "#creaing a db for neural prophet to use later\n",
    "npForArava=Quake_Ar[['Datetime', 'Mw']]\n",
    "npForArava.dropna(inplace=True)\n",
    "#changing the column names to meat Neuralprophet's expectations/requirments\n",
    "npForArava.columns=['ds', 'y']\n",
    "npForArava.head()"
   ]
  },
  {
   "cell_type": "code",
   "execution_count": 17,
   "id": "b6c3e094",
   "metadata": {},
   "outputs": [
    {
     "name": "stderr",
     "output_type": "stream",
     "text": [
      "WARNING - (py.warnings._showwarnmsg) - C:\\Users\\yelsk\\anaconda3\\lib\\site-packages\\pandas\\core\\indexing.py:1773: SettingWithCopyWarning: \n",
      "A value is trying to be set on a copy of a slice from a DataFrame.\n",
      "Try using .loc[row_indexer,col_indexer] = value instead\n",
      "\n",
      "See the caveats in the documentation: https://pandas.pydata.org/pandas-docs/stable/user_guide/indexing.html#returning-a-view-versus-a-copy\n",
      "  self._setitem_single_column(ilocs[0], value, pi)\n",
      "\n",
      "INFO - (NP.utils.set_auto_seasonalities) - Disabling yearly seasonality. Run NeuralProphet with yearly_seasonality=True to override this.\n",
      "INFO - (NP.config.set_auto_batch_epoch) - Auto-set batch_size to 32\n"
     ]
    },
    {
     "data": {
      "application/vnd.jupyter.widget-view+json": {
       "model_id": "3d6b67d698e843d395088940c19b97e8",
       "version_major": 2,
       "version_minor": 0
      },
      "text/plain": [
       "  0%|          | 0/262 [00:00<?, ?it/s]"
      ]
     },
     "metadata": {},
     "output_type": "display_data"
    },
    {
     "name": "stderr",
     "output_type": "stream",
     "text": [
      "INFO - (NP.utils_torch.lr_range_test) - lr-range-test results: steep: 4.18E-02, min: 5.30E-01\n"
     ]
    },
    {
     "data": {
      "application/vnd.jupyter.widget-view+json": {
       "model_id": "d689fced5bee4160b17649c9b49145b1",
       "version_major": 2,
       "version_minor": 0
      },
      "text/plain": [
       "  0%|          | 0/262 [00:00<?, ?it/s]"
      ]
     },
     "metadata": {},
     "output_type": "display_data"
    },
    {
     "name": "stderr",
     "output_type": "stream",
     "text": [
      "INFO - (NP.utils_torch.lr_range_test) - lr-range-test results: steep: 4.18E-02, min: 8.53E-01\n"
     ]
    },
    {
     "data": {
      "application/vnd.jupyter.widget-view+json": {
       "model_id": "0f6487facc4f49438ffcd1aeb8e95865",
       "version_major": 2,
       "version_minor": 0
      },
      "text/plain": [
       "  0%|          | 0/262 [00:00<?, ?it/s]"
      ]
     },
     "metadata": {},
     "output_type": "display_data"
    },
    {
     "name": "stderr",
     "output_type": "stream",
     "text": [
      "INFO - (NP.utils_torch.lr_range_test) - lr-range-test results: steep: 4.52E-02, min: 7.28E-01\n",
      "INFO - (NP.forecaster._init_train_loader) - lr-range-test selected learning rate: 4.29E-02\n",
      "Epoch[100/100]: 100%|██████████| 100/100 [00:19<00:00,  5.12it/s, SmoothL1Loss=0.0296, MAE=0.715, RMSE=0.915, RegLoss=0]\n"
     ]
    },
    {
     "data": {
      "text/html": [
       "<div>\n",
       "<style scoped>\n",
       "    .dataframe tbody tr th:only-of-type {\n",
       "        vertical-align: middle;\n",
       "    }\n",
       "\n",
       "    .dataframe tbody tr th {\n",
       "        vertical-align: top;\n",
       "    }\n",
       "\n",
       "    .dataframe thead th {\n",
       "        text-align: right;\n",
       "    }\n",
       "</style>\n",
       "<table border=\"1\" class=\"dataframe\">\n",
       "  <thead>\n",
       "    <tr style=\"text-align: right;\">\n",
       "      <th></th>\n",
       "      <th>SmoothL1Loss</th>\n",
       "      <th>MAE</th>\n",
       "      <th>RMSE</th>\n",
       "      <th>RegLoss</th>\n",
       "    </tr>\n",
       "  </thead>\n",
       "  <tbody>\n",
       "    <tr>\n",
       "      <th>0</th>\n",
       "      <td>0.749265</td>\n",
       "      <td>4.401135</td>\n",
       "      <td>5.447433</td>\n",
       "      <td>0.0</td>\n",
       "    </tr>\n",
       "    <tr>\n",
       "      <th>1</th>\n",
       "      <td>0.694269</td>\n",
       "      <td>4.169936</td>\n",
       "      <td>5.185638</td>\n",
       "      <td>0.0</td>\n",
       "    </tr>\n",
       "    <tr>\n",
       "      <th>2</th>\n",
       "      <td>0.611433</td>\n",
       "      <td>3.816174</td>\n",
       "      <td>4.768717</td>\n",
       "      <td>0.0</td>\n",
       "    </tr>\n",
       "    <tr>\n",
       "      <th>3</th>\n",
       "      <td>0.491586</td>\n",
       "      <td>3.297268</td>\n",
       "      <td>4.149530</td>\n",
       "      <td>0.0</td>\n",
       "    </tr>\n",
       "    <tr>\n",
       "      <th>4</th>\n",
       "      <td>0.339831</td>\n",
       "      <td>2.612684</td>\n",
       "      <td>3.282786</td>\n",
       "      <td>0.0</td>\n",
       "    </tr>\n",
       "    <tr>\n",
       "      <th>...</th>\n",
       "      <td>...</td>\n",
       "      <td>...</td>\n",
       "      <td>...</td>\n",
       "      <td>...</td>\n",
       "    </tr>\n",
       "    <tr>\n",
       "      <th>95</th>\n",
       "      <td>0.029693</td>\n",
       "      <td>0.716097</td>\n",
       "      <td>0.914322</td>\n",
       "      <td>0.0</td>\n",
       "    </tr>\n",
       "    <tr>\n",
       "      <th>96</th>\n",
       "      <td>0.029626</td>\n",
       "      <td>0.715266</td>\n",
       "      <td>0.915126</td>\n",
       "      <td>0.0</td>\n",
       "    </tr>\n",
       "    <tr>\n",
       "      <th>97</th>\n",
       "      <td>0.029597</td>\n",
       "      <td>0.715084</td>\n",
       "      <td>0.914538</td>\n",
       "      <td>0.0</td>\n",
       "    </tr>\n",
       "    <tr>\n",
       "      <th>98</th>\n",
       "      <td>0.029587</td>\n",
       "      <td>0.715150</td>\n",
       "      <td>0.913331</td>\n",
       "      <td>0.0</td>\n",
       "    </tr>\n",
       "    <tr>\n",
       "      <th>99</th>\n",
       "      <td>0.029579</td>\n",
       "      <td>0.715064</td>\n",
       "      <td>0.915208</td>\n",
       "      <td>0.0</td>\n",
       "    </tr>\n",
       "  </tbody>\n",
       "</table>\n",
       "<p>100 rows × 4 columns</p>\n",
       "</div>"
      ],
      "text/plain": [
       "    SmoothL1Loss       MAE      RMSE  RegLoss\n",
       "0       0.749265  4.401135  5.447433      0.0\n",
       "1       0.694269  4.169936  5.185638      0.0\n",
       "2       0.611433  3.816174  4.768717      0.0\n",
       "3       0.491586  3.297268  4.149530      0.0\n",
       "4       0.339831  2.612684  3.282786      0.0\n",
       "..           ...       ...       ...      ...\n",
       "95      0.029693  0.716097  0.914322      0.0\n",
       "96      0.029626  0.715266  0.915126      0.0\n",
       "97      0.029597  0.715084  0.914538      0.0\n",
       "98      0.029587  0.715150  0.913331      0.0\n",
       "99      0.029579  0.715064  0.915208      0.0\n",
       "\n",
       "[100 rows x 4 columns]"
      ]
     },
     "execution_count": 17,
     "metadata": {},
     "output_type": "execute_result"
    }
   ],
   "source": [
    "#creating a new instance of our model - untrained\n",
    "mod=NeuralProphet()\n",
    "# train the model (freq='D'= daily frequency)\n",
    "mod.fit(npForArava, freq='D', epochs=100)"
   ]
  },
  {
   "cell_type": "code",
   "execution_count": 18,
   "id": "e9ca784e",
   "metadata": {},
   "outputs": [
    {
     "data": {
      "text/html": [
       "<div>\n",
       "<style scoped>\n",
       "    .dataframe tbody tr th:only-of-type {\n",
       "        vertical-align: middle;\n",
       "    }\n",
       "\n",
       "    .dataframe tbody tr th {\n",
       "        vertical-align: top;\n",
       "    }\n",
       "\n",
       "    .dataframe thead th {\n",
       "        text-align: right;\n",
       "    }\n",
       "</style>\n",
       "<table border=\"1\" class=\"dataframe\">\n",
       "  <thead>\n",
       "    <tr style=\"text-align: right;\">\n",
       "      <th></th>\n",
       "      <th>ds</th>\n",
       "      <th>y</th>\n",
       "      <th>yhat1</th>\n",
       "      <th>residual1</th>\n",
       "      <th>trend</th>\n",
       "      <th>season_weekly</th>\n",
       "      <th>season_daily</th>\n",
       "    </tr>\n",
       "  </thead>\n",
       "  <tbody>\n",
       "    <tr>\n",
       "      <th>45</th>\n",
       "      <td>2019-02-15 19:10:59</td>\n",
       "      <td>None</td>\n",
       "      <td>2.712491</td>\n",
       "      <td>NaN</td>\n",
       "      <td>2.950852</td>\n",
       "      <td>-0.062182</td>\n",
       "      <td>-0.17618</td>\n",
       "    </tr>\n",
       "    <tr>\n",
       "      <th>46</th>\n",
       "      <td>2019-02-16 19:10:59</td>\n",
       "      <td>None</td>\n",
       "      <td>2.769271</td>\n",
       "      <td>NaN</td>\n",
       "      <td>2.957749</td>\n",
       "      <td>-0.012298</td>\n",
       "      <td>-0.17618</td>\n",
       "    </tr>\n",
       "    <tr>\n",
       "      <th>47</th>\n",
       "      <td>2019-02-17 19:10:59</td>\n",
       "      <td>None</td>\n",
       "      <td>2.998534</td>\n",
       "      <td>NaN</td>\n",
       "      <td>2.964646</td>\n",
       "      <td>0.210068</td>\n",
       "      <td>-0.17618</td>\n",
       "    </tr>\n",
       "    <tr>\n",
       "      <th>48</th>\n",
       "      <td>2019-02-18 19:10:59</td>\n",
       "      <td>None</td>\n",
       "      <td>2.807605</td>\n",
       "      <td>NaN</td>\n",
       "      <td>2.971542</td>\n",
       "      <td>0.012242</td>\n",
       "      <td>-0.17618</td>\n",
       "    </tr>\n",
       "    <tr>\n",
       "      <th>49</th>\n",
       "      <td>2019-02-19 19:10:59</td>\n",
       "      <td>None</td>\n",
       "      <td>2.709491</td>\n",
       "      <td>NaN</td>\n",
       "      <td>2.978439</td>\n",
       "      <td>-0.092768</td>\n",
       "      <td>-0.17618</td>\n",
       "    </tr>\n",
       "  </tbody>\n",
       "</table>\n",
       "</div>"
      ],
      "text/plain": [
       "                    ds     y     yhat1 residual1     trend  season_weekly  \\\n",
       "45 2019-02-15 19:10:59  None  2.712491       NaN  2.950852      -0.062182   \n",
       "46 2019-02-16 19:10:59  None  2.769271       NaN  2.957749      -0.012298   \n",
       "47 2019-02-17 19:10:59  None  2.998534       NaN  2.964646       0.210068   \n",
       "48 2019-02-18 19:10:59  None  2.807605       NaN  2.971542       0.012242   \n",
       "49 2019-02-19 19:10:59  None  2.709491       NaN  2.978439      -0.092768   \n",
       "\n",
       "    season_daily  \n",
       "45      -0.17618  \n",
       "46      -0.17618  \n",
       "47      -0.17618  \n",
       "48      -0.17618  \n",
       "49      -0.17618  "
      ]
     },
     "execution_count": 18,
     "metadata": {},
     "output_type": "execute_result"
    }
   ],
   "source": [
    "#forcasting after we trained our model\n",
    "futurequ=mod.make_future_dataframe(npForArava, periods=50)\n",
    "forcastQ=mod.predict(futurequ)\n",
    "forcastQ.tail()"
   ]
  },
  {
   "cell_type": "code",
   "execution_count": 19,
   "id": "fed854dd",
   "metadata": {},
   "outputs": [
    {
     "data": {
      "image/png": "[encoded data removed]",
      "text/plain": [
       "<Figure size 720x432 with 1 Axes>"
      ]
     },
     "metadata": {},
     "output_type": "display_data"
    }
   ],
   "source": [
    "plot1=mod.plot(forcastQ)"
   ]
  },
  {
   "cell_type": "code",
   "execution_count": 20,
   "id": "3933ce1b",
   "metadata": {},
   "outputs": [],
   "source": [
    "#dave dataframe as excel file for creating power bi dashboard\n",
    "forcastQ.to_excel('forcastQ.xlsx')"
   ]
  },
  {
   "cell_type": "code",
   "execution_count": 21,
   "id": "1b24c90f",
   "metadata": {},
   "outputs": [],
   "source": [
    "#another model for validation from npForArava dataframe\n",
    "model=NeuralProphet()\n",
    "npForArava_train, npForArava_test=model.split_df(npForArava, valid_p=0.1, freq='D')\n"
   ]
  },
  {
   "cell_type": "code",
   "execution_count": 22,
   "id": "bb3ec6f9",
   "metadata": {},
   "outputs": [
    {
     "name": "stderr",
     "output_type": "stream",
     "text": [
      "INFO - (NP.utils.set_auto_seasonalities) - Disabling yearly seasonality. Run NeuralProphet with yearly_seasonality=True to override this.\n",
      "INFO - (NP.config.set_auto_batch_epoch) - Auto-set batch_size to 32\n",
      "INFO - (NP.config.set_auto_batch_epoch) - Auto-set epochs to 160\n"
     ]
    },
    {
     "data": {
      "application/vnd.jupyter.widget-view+json": {
       "model_id": "bacb5eee98734b9ea4d0c7b80418fe0f",
       "version_major": 2,
       "version_minor": 0
      },
      "text/plain": [
       "  0%|          | 0/260 [00:00<?, ?it/s]"
      ]
     },
     "metadata": {},
     "output_type": "display_data"
    },
    {
     "name": "stderr",
     "output_type": "stream",
     "text": [
      "INFO - (NP.utils_torch.lr_range_test) - lr-range-test results: steep: 5.41E-02, min: 1.05E+00\n"
     ]
    },
    {
     "data": {
      "application/vnd.jupyter.widget-view+json": {
       "model_id": "32bbac9d791848efa7bb0be5bda160b0",
       "version_major": 2,
       "version_minor": 0
      },
      "text/plain": [
       "  0%|          | 0/260 [00:00<?, ?it/s]"
      ]
     },
     "metadata": {},
     "output_type": "display_data"
    },
    {
     "name": "stderr",
     "output_type": "stream",
     "text": [
      "INFO - (NP.utils_torch.lr_range_test) - lr-range-test results: steep: 4.61E-02, min: 1.05E+00\n"
     ]
    },
    {
     "data": {
      "application/vnd.jupyter.widget-view+json": {
       "model_id": "35596e3d10c74917b05d46599a537757",
       "version_major": 2,
       "version_minor": 0
      },
      "text/plain": [
       "  0%|          | 0/260 [00:00<?, ?it/s]"
      ]
     },
     "metadata": {},
     "output_type": "display_data"
    },
    {
     "name": "stderr",
     "output_type": "stream",
     "text": [
      "INFO - (NP.utils_torch.lr_range_test) - lr-range-test results: steep: 4.26E-02, min: 6.47E-01\n",
      "INFO - (NP.forecaster._init_train_loader) - lr-range-test selected learning rate: 4.74E-02\n",
      "Epoch[160/160]: 100%|██████████| 160/160 [00:21<00:00,  7.43it/s, SmoothL1Loss=0.0301, MAE=0.678, RMSE=0.872, RegLoss=0]\n",
      "INFO - (NP.forecaster._evaluate) - Validation metrics:    SmoothL1Loss    MAE   RMSE\n",
      "1         0.068  1.024  1.330\n"
     ]
    }
   ],
   "source": [
    "#training and validation metrics\n",
    "train_metrics=model.fit(npForArava_train, freq='D')\n",
    "test_metrics= model.test(npForArava_test)"
   ]
  },
  {
   "cell_type": "code",
   "execution_count": 23,
   "id": "17a43c21",
   "metadata": {},
   "outputs": [
    {
     "data": {
      "text/html": [
       "<div>\n",
       "<style scoped>\n",
       "    .dataframe tbody tr th:only-of-type {\n",
       "        vertical-align: middle;\n",
       "    }\n",
       "\n",
       "    .dataframe tbody tr th {\n",
       "        vertical-align: top;\n",
       "    }\n",
       "\n",
       "    .dataframe thead th {\n",
       "        text-align: right;\n",
       "    }\n",
       "</style>\n",
       "<table border=\"1\" class=\"dataframe\">\n",
       "  <thead>\n",
       "    <tr style=\"text-align: right;\">\n",
       "      <th></th>\n",
       "      <th>SmoothL1Loss</th>\n",
       "      <th>MAE</th>\n",
       "      <th>RMSE</th>\n",
       "    </tr>\n",
       "  </thead>\n",
       "  <tbody>\n",
       "    <tr>\n",
       "      <th>0</th>\n",
       "      <td>0.068111</td>\n",
       "      <td>1.024294</td>\n",
       "      <td>1.329664</td>\n",
       "    </tr>\n",
       "  </tbody>\n",
       "</table>\n",
       "</div>"
      ],
      "text/plain": [
       "   SmoothL1Loss       MAE      RMSE\n",
       "0      0.068111  1.024294  1.329664"
      ]
     },
     "execution_count": 23,
     "metadata": {},
     "output_type": "execute_result"
    }
   ],
   "source": [
    "test_metrics"
   ]
  },
  {
   "cell_type": "markdown",
   "id": "467fa85d",
   "metadata": {},
   "source": [
    "It seems like those stats are very good. After looking for some kind of leakage and not finding it, I suspect that the reason is that the Mw values I'm trying to fit are small (mostly between 1.5 and 2), and therefore the errors are less then 1 (and even less so while squared). to test that I will try to predict values 10 times bigger then Mw and then see if the metrics show much bigger errors."
   ]
  },
  {
   "cell_type": "code",
   "execution_count": 24,
   "id": "0e90ef3b",
   "metadata": {},
   "outputs": [
    {
     "data": {
      "text/html": [
       "<div>\n",
       "<style scoped>\n",
       "    .dataframe tbody tr th:only-of-type {\n",
       "        vertical-align: middle;\n",
       "    }\n",
       "\n",
       "    .dataframe tbody tr th {\n",
       "        vertical-align: top;\n",
       "    }\n",
       "\n",
       "    .dataframe thead th {\n",
       "        text-align: right;\n",
       "    }\n",
       "</style>\n",
       "<table border=\"1\" class=\"dataframe\">\n",
       "  <thead>\n",
       "    <tr style=\"text-align: right;\">\n",
       "      <th></th>\n",
       "      <th>ds</th>\n",
       "      <th>y</th>\n",
       "    </tr>\n",
       "  </thead>\n",
       "  <tbody>\n",
       "    <tr>\n",
       "      <th>2</th>\n",
       "      <td>2018-01-02 12:49:34</td>\n",
       "      <td>26.0</td>\n",
       "    </tr>\n",
       "    <tr>\n",
       "      <th>3</th>\n",
       "      <td>2018-01-02 17:10:56</td>\n",
       "      <td>11.0</td>\n",
       "    </tr>\n",
       "    <tr>\n",
       "      <th>5</th>\n",
       "      <td>2018-01-05 04:33:17</td>\n",
       "      <td>40.0</td>\n",
       "    </tr>\n",
       "    <tr>\n",
       "      <th>7</th>\n",
       "      <td>2018-01-06 00:07:14</td>\n",
       "      <td>24.0</td>\n",
       "    </tr>\n",
       "    <tr>\n",
       "      <th>9</th>\n",
       "      <td>2018-01-06 19:21:12</td>\n",
       "      <td>20.0</td>\n",
       "    </tr>\n",
       "  </tbody>\n",
       "</table>\n",
       "</div>"
      ],
      "text/plain": [
       "                   ds     y\n",
       "2 2018-01-02 12:49:34  26.0\n",
       "3 2018-01-02 17:10:56  11.0\n",
       "5 2018-01-05 04:33:17  40.0\n",
       "7 2018-01-06 00:07:14  24.0\n",
       "9 2018-01-06 19:21:12  20.0"
      ]
     },
     "execution_count": 24,
     "metadata": {},
     "output_type": "execute_result"
    }
   ],
   "source": [
    "#creating dataframe with 10X the value of Mw\n",
    "np_10_ForArava= npForArava[['ds', 'y']]\n",
    "np_10_ForArava['y']=np_10_ForArava['y']*10\n",
    "np_10_ForArava.head()\n"
   ]
  },
  {
   "cell_type": "code",
   "execution_count": 25,
   "id": "76c0ec94",
   "metadata": {},
   "outputs": [
    {
     "name": "stderr",
     "output_type": "stream",
     "text": [
      "INFO - (NP.utils.set_auto_seasonalities) - Disabling yearly seasonality. Run NeuralProphet with yearly_seasonality=True to override this.\n",
      "INFO - (NP.config.set_auto_batch_epoch) - Auto-set batch_size to 32\n",
      "INFO - (NP.config.set_auto_batch_epoch) - Auto-set epochs to 160\n"
     ]
    },
    {
     "data": {
      "application/vnd.jupyter.widget-view+json": {
       "model_id": "c277fe9585ed4042ad1a87dfa6a1e2c9",
       "version_major": 2,
       "version_minor": 0
      },
      "text/plain": [
       "  0%|          | 0/260 [00:00<?, ?it/s]"
      ]
     },
     "metadata": {},
     "output_type": "display_data"
    },
    {
     "name": "stderr",
     "output_type": "stream",
     "text": [
      "INFO - (NP.utils_torch.lr_range_test) - lr-range-test results: steep: 5.41E-02, min: 2.15E+00\n"
     ]
    },
    {
     "data": {
      "application/vnd.jupyter.widget-view+json": {
       "model_id": "ba0e84b1559940b79c6de3bdbfed1c58",
       "version_major": 2,
       "version_minor": 0
      },
      "text/plain": [
       "  0%|          | 0/260 [00:00<?, ?it/s]"
      ]
     },
     "metadata": {},
     "output_type": "display_data"
    },
    {
     "name": "stderr",
     "output_type": "stream",
     "text": [
      "INFO - (NP.utils_torch.lr_range_test) - lr-range-test results: steep: 5.87E-02, min: 1.44E+00\n"
     ]
    },
    {
     "data": {
      "application/vnd.jupyter.widget-view+json": {
       "model_id": "5a09074adb3d4a31af1c784df9b3d762",
       "version_major": 2,
       "version_minor": 0
      },
      "text/plain": [
       "  0%|          | 0/260 [00:00<?, ?it/s]"
      ]
     },
     "metadata": {},
     "output_type": "display_data"
    },
    {
     "name": "stderr",
     "output_type": "stream",
     "text": [
      "INFO - (NP.utils_torch.lr_range_test) - lr-range-test results: steep: 5.41E-02, min: 1.33E+00\n",
      "INFO - (NP.forecaster._init_train_loader) - lr-range-test selected learning rate: 5.56E-02\n",
      "Epoch[160/160]: 100%|██████████| 160/160 [00:20<00:00,  7.77it/s, SmoothL1Loss=0.0301, MAE=6.79, RMSE=8.77, RegLoss=0]\n",
      "INFO - (NP.forecaster._evaluate) - Validation metrics:    SmoothL1Loss    MAE   RMSE\n",
      "1         0.068 10.224 13.255\n"
     ]
    }
   ],
   "source": [
    "# model for validation from np_10_ForArava dataframe\n",
    "model_10=NeuralProphet()\n",
    "np_10_ForArava_train, np_10_ForArava_test=model.split_df(np_10_ForArava, valid_p=0.1, freq='D')\n",
    "\n",
    "#training and validation metrics\n",
    "train_metrics=model_10.fit(np_10_ForArava_train, freq='D')\n",
    "test_metrics= model_10.test(np_10_ForArava_test)"
   ]
  },
  {
   "cell_type": "code",
   "execution_count": 26,
   "id": "87e17f04",
   "metadata": {},
   "outputs": [
    {
     "data": {
      "text/plain": [
       "Timestamp('2018-12-31 19:10:59')"
      ]
     },
     "execution_count": 26,
     "metadata": {},
     "output_type": "execute_result"
    }
   ],
   "source": [
    "#exploring values in my dataframe\n",
    "#np_10_ForArava['y'].min()\n",
    "np_10_ForArava_test['ds'].max()\n",
    "#np_10_ForArava_train['ds'].max()"
   ]
  },
  {
   "cell_type": "code",
   "execution_count": 27,
   "id": "ee50bd2b",
   "metadata": {},
   "outputs": [],
   "source": [
    "#Saving our model with Pickle\n",
    "with open ('eq_forcast_model.pkl', \"wb\") as f:\n",
    "    pickle.dump(model_10, f)"
   ]
  },
  {
   "cell_type": "code",
   "execution_count": 28,
   "id": "6c396123",
   "metadata": {},
   "outputs": [],
   "source": [
    "#reload the model\n",
    "with open ('eq_forcast_model.pkl', \"rb\") as f:\n",
    "    m=pickle.load(f)"
   ]
  },
  {
   "cell_type": "code",
   "execution_count": 29,
   "id": "552b2942",
   "metadata": {},
   "outputs": [
    {
     "data": {
      "text/plain": [
       "<neuralprophet.forecaster.NeuralProphet at 0x2374543d0d0>"
      ]
     },
     "execution_count": 29,
     "metadata": {},
     "output_type": "execute_result"
    }
   ],
   "source": [
    "m"
   ]
  },
  {
   "cell_type": "code",
   "execution_count": 30,
   "id": "41cbb690",
   "metadata": {},
   "outputs": [
    {
     "name": "stderr",
     "output_type": "stream",
     "text": [
      "INFO - (NP.forecaster._evaluate) - Validation metrics:    SmoothL1Loss    MAE   RMSE\n",
      "1         0.068 10.224 13.255\n"
     ]
    }
   ],
   "source": [
    "#check if our model indeed have the same metrics:  0.050  4.018  5.378 --which indeed it does:)\n",
    "test_metrics= m.test(np_10_ForArava_test)\n"
   ]
  },
  {
   "cell_type": "markdown",
   "id": "bfca9953",
   "metadata": {},
   "source": [
    "Plotting and trying to forcast the location (North-South) of the earthquake"
   ]
  },
  {
   "cell_type": "code",
   "execution_count": 36,
   "id": "2e26772c",
   "metadata": {},
   "outputs": [
    {
     "data": {
      "image/png": "[encoded data removed]",
      "text/plain": [
       "<Figure size 1296x720 with 1 Axes>"
      ]
     },
     "metadata": {
      "needs_background": "light"
     },
     "output_type": "display_data"
    }
   ],
   "source": [
    "##DF only earthquakes along Dead Sea fault region\n",
    "Quake_DSR=Quakeplt.loc[Quakeplt['Region'].isin (['Yamune', 'Lebanon', 'Roum', 'Hula-Kinneret', 'Jordan-Valley', 'E.Shomron', 'Dead-Sea-Basin', 'Arava', 'arava', 'Barak-fault', 'W.sirhan', 'Eilat-Deep', 'Aragonese_Deep', 'Arnona-Dakar-Deep'])]\n",
    "Quake_DSR.head()\n",
    "\n",
    "#plotting earthquake's magnitude(Mw) vs time in 2018 of dead sea basin\n",
    "Quake_DSR.plot(kind='scatter', x='Datetime', y='Long',figsize=(18, 10),c='red')\n",
    "plt.title(r'longitude (N-S) v.time 2018')\n",
    "plt.xlabel('date')\n",
    "plt.ylabel('longitude')\n",
    "\n",
    "plt.show()"
   ]
  },
  {
   "cell_type": "code",
   "execution_count": 39,
   "id": "59b54a3a",
   "metadata": {},
   "outputs": [
    {
     "name": "stderr",
     "output_type": "stream",
     "text": [
      "WARNING - (py.warnings._showwarnmsg) - C:\\Users\\yelsk\\anaconda3\\lib\\site-packages\\pandas\\util\\_decorators.py:311: SettingWithCopyWarning: \n",
      "A value is trying to be set on a copy of a slice from a DataFrame\n",
      "\n",
      "See the caveats in the documentation: https://pandas.pydata.org/pandas-docs/stable/user_guide/indexing.html#returning-a-view-versus-a-copy\n",
      "  return func(*args, **kwargs)\n",
      "\n"
     ]
    },
    {
     "data": {
      "text/html": [
       "<div>\n",
       "<style scoped>\n",
       "    .dataframe tbody tr th:only-of-type {\n",
       "        vertical-align: middle;\n",
       "    }\n",
       "\n",
       "    .dataframe tbody tr th {\n",
       "        vertical-align: top;\n",
       "    }\n",
       "\n",
       "    .dataframe thead th {\n",
       "        text-align: right;\n",
       "    }\n",
       "</style>\n",
       "<table border=\"1\" class=\"dataframe\">\n",
       "  <thead>\n",
       "    <tr style=\"text-align: right;\">\n",
       "      <th></th>\n",
       "      <th>ds</th>\n",
       "      <th>y</th>\n",
       "    </tr>\n",
       "  </thead>\n",
       "  <tbody>\n",
       "    <tr>\n",
       "      <th>3</th>\n",
       "      <td>2018-01-02 17:10:56</td>\n",
       "      <td>35.6112</td>\n",
       "    </tr>\n",
       "    <tr>\n",
       "      <th>9</th>\n",
       "      <td>2018-01-06 19:21:12</td>\n",
       "      <td>35.6748</td>\n",
       "    </tr>\n",
       "    <tr>\n",
       "      <th>14</th>\n",
       "      <td>2018-01-07 06:58:51</td>\n",
       "      <td>35.6191</td>\n",
       "    </tr>\n",
       "    <tr>\n",
       "      <th>16</th>\n",
       "      <td>2018-01-07 21:37:37</td>\n",
       "      <td>35.0804</td>\n",
       "    </tr>\n",
       "    <tr>\n",
       "      <th>19</th>\n",
       "      <td>2018-01-10 05:37:52</td>\n",
       "      <td>35.2222</td>\n",
       "    </tr>\n",
       "  </tbody>\n",
       "</table>\n",
       "</div>"
      ],
      "text/plain": [
       "                    ds        y\n",
       "3  2018-01-02 17:10:56  35.6112\n",
       "9  2018-01-06 19:21:12  35.6748\n",
       "14 2018-01-07 06:58:51  35.6191\n",
       "16 2018-01-07 21:37:37  35.0804\n",
       "19 2018-01-10 05:37:52  35.2222"
      ]
     },
     "execution_count": 39,
     "metadata": {},
     "output_type": "execute_result"
    }
   ],
   "source": [
    "#creaing a db for neural prophet to use later\n",
    "npForDSR=Quake_DSR[['Datetime', 'Long']]\n",
    "npForDSR.dropna(inplace=True)\n",
    "#changing the column names to meat Neuralprophet's expectations/requirments\n",
    "npForDSR.columns=['ds', 'y']\n",
    "npForDSR.head()"
   ]
  },
  {
   "cell_type": "code",
   "execution_count": 49,
   "id": "42345e77",
   "metadata": {},
   "outputs": [
    {
     "name": "stderr",
     "output_type": "stream",
     "text": [
      "INFO - (NP.utils.set_auto_seasonalities) - Disabling yearly seasonality. Run NeuralProphet with yearly_seasonality=True to override this.\n",
      "INFO - (NP.config.set_auto_batch_epoch) - Auto-set batch_size to 32\n",
      "INFO - (NP.config.set_auto_batch_epoch) - Auto-set epochs to 178\n"
     ]
    },
    {
     "data": {
      "application/vnd.jupyter.widget-view+json": {
       "model_id": "15931e68bef24b0eabe4a9973a00138c",
       "version_major": 2,
       "version_minor": 0
      },
      "text/plain": [
       "  0%|          | 0/251 [00:00<?, ?it/s]"
      ]
     },
     "metadata": {},
     "output_type": "display_data"
    },
    {
     "name": "stderr",
     "output_type": "stream",
     "text": [
      "INFO - (NP.utils_torch.lr_range_test) - lr-range-test results: steep: 6.79E-02, min: 8.87E-01\n"
     ]
    },
    {
     "data": {
      "application/vnd.jupyter.widget-view+json": {
       "model_id": "bd25f775a79e441aaac1a1e737007797",
       "version_major": 2,
       "version_minor": 0
      },
      "text/plain": [
       "  0%|          | 0/251 [00:00<?, ?it/s]"
      ]
     },
     "metadata": {},
     "output_type": "display_data"
    },
    {
     "name": "stderr",
     "output_type": "stream",
     "text": [
      "INFO - (NP.utils_torch.lr_range_test) - lr-range-test results: steep: 5.75E-02, min: 8.87E-01\n"
     ]
    },
    {
     "data": {
      "application/vnd.jupyter.widget-view+json": {
       "model_id": "ad91b2b6802b44e4bb05b5eb1b5ea23d",
       "version_major": 2,
       "version_minor": 0
      },
      "text/plain": [
       "  0%|          | 0/251 [00:00<?, ?it/s]"
      ]
     },
     "metadata": {},
     "output_type": "display_data"
    },
    {
     "name": "stderr",
     "output_type": "stream",
     "text": [
      "INFO - (NP.utils_torch.lr_range_test) - lr-range-test results: steep: 4.88E-02, min: 1.24E+00\n",
      "INFO - (NP.forecaster._init_train_loader) - lr-range-test selected learning rate: 5.75E-02\n",
      "Epoch[178/178]: 100%|██████████| 178/178 [00:18<00:00,  9.79it/s, SmoothL1Loss=0.0182, MAE=0.104, RMSE=0.177, RegLoss=0]\n",
      "INFO - (NP.forecaster._evaluate) - Validation metrics:    SmoothL1Loss    MAE   RMSE\n",
      "1         0.057  0.289  0.328\n"
     ]
    }
   ],
   "source": [
    "#creating a new instance of our model - untrained\n",
    "model=NeuralProphet()\n",
    "# train the model (freq='D'= daily frequency)\n",
    "npForDSR_train, npForDSR_test=model.split_df(npForDSR, valid_p=0.1, freq='D')\n",
    "\n",
    "#training and validation metrics\n",
    "train_metrics=model.fit(npForDSR_train, freq='D')\n",
    "test_metrics= model.test(npForDSR_test)"
   ]
  },
  {
   "cell_type": "code",
   "execution_count": 52,
   "id": "125c1f52",
   "metadata": {},
   "outputs": [
    {
     "data": {
      "text/html": [
       "<div>\n",
       "<style scoped>\n",
       "    .dataframe tbody tr th:only-of-type {\n",
       "        vertical-align: middle;\n",
       "    }\n",
       "\n",
       "    .dataframe tbody tr th {\n",
       "        vertical-align: top;\n",
       "    }\n",
       "\n",
       "    .dataframe thead th {\n",
       "        text-align: right;\n",
       "    }\n",
       "</style>\n",
       "<table border=\"1\" class=\"dataframe\">\n",
       "  <thead>\n",
       "    <tr style=\"text-align: right;\">\n",
       "      <th></th>\n",
       "      <th>SmoothL1Loss</th>\n",
       "      <th>MAE</th>\n",
       "      <th>RMSE</th>\n",
       "    </tr>\n",
       "  </thead>\n",
       "  <tbody>\n",
       "    <tr>\n",
       "      <th>0</th>\n",
       "      <td>0.057439</td>\n",
       "      <td>0.288792</td>\n",
       "      <td>0.32792</td>\n",
       "    </tr>\n",
       "  </tbody>\n",
       "</table>\n",
       "</div>"
      ],
      "text/plain": [
       "   SmoothL1Loss       MAE     RMSE\n",
       "0      0.057439  0.288792  0.32792"
      ]
     },
     "execution_count": 52,
     "metadata": {},
     "output_type": "execute_result"
    }
   ],
   "source": [
    "test_metrics"
   ]
  },
  {
   "cell_type": "code",
   "execution_count": 50,
   "id": "ad3d15a5",
   "metadata": {},
   "outputs": [
    {
     "data": {
      "text/html": [
       "<div>\n",
       "<style scoped>\n",
       "    .dataframe tbody tr th:only-of-type {\n",
       "        vertical-align: middle;\n",
       "    }\n",
       "\n",
       "    .dataframe tbody tr th {\n",
       "        vertical-align: top;\n",
       "    }\n",
       "\n",
       "    .dataframe thead th {\n",
       "        text-align: right;\n",
       "    }\n",
       "</style>\n",
       "<table border=\"1\" class=\"dataframe\">\n",
       "  <thead>\n",
       "    <tr style=\"text-align: right;\">\n",
       "      <th></th>\n",
       "      <th>ds</th>\n",
       "      <th>y</th>\n",
       "      <th>yhat1</th>\n",
       "      <th>residual1</th>\n",
       "      <th>trend</th>\n",
       "      <th>season_weekly</th>\n",
       "      <th>season_daily</th>\n",
       "    </tr>\n",
       "  </thead>\n",
       "  <tbody>\n",
       "    <tr>\n",
       "      <th>45</th>\n",
       "      <td>2019-02-15 19:10:59</td>\n",
       "      <td>None</td>\n",
       "      <td>35.068790</td>\n",
       "      <td>NaN</td>\n",
       "      <td>35.077515</td>\n",
       "      <td>0.003790</td>\n",
       "      <td>-0.012511</td>\n",
       "    </tr>\n",
       "    <tr>\n",
       "      <th>46</th>\n",
       "      <td>2019-02-16 19:10:59</td>\n",
       "      <td>None</td>\n",
       "      <td>35.049599</td>\n",
       "      <td>NaN</td>\n",
       "      <td>35.075211</td>\n",
       "      <td>-0.013101</td>\n",
       "      <td>-0.012511</td>\n",
       "    </tr>\n",
       "    <tr>\n",
       "      <th>47</th>\n",
       "      <td>2019-02-17 19:10:59</td>\n",
       "      <td>None</td>\n",
       "      <td>35.062599</td>\n",
       "      <td>NaN</td>\n",
       "      <td>35.072910</td>\n",
       "      <td>0.002200</td>\n",
       "      <td>-0.012511</td>\n",
       "    </tr>\n",
       "    <tr>\n",
       "      <th>48</th>\n",
       "      <td>2019-02-18 19:10:59</td>\n",
       "      <td>None</td>\n",
       "      <td>35.064034</td>\n",
       "      <td>NaN</td>\n",
       "      <td>35.070610</td>\n",
       "      <td>0.005935</td>\n",
       "      <td>-0.012511</td>\n",
       "    </tr>\n",
       "    <tr>\n",
       "      <th>49</th>\n",
       "      <td>2019-02-19 19:10:59</td>\n",
       "      <td>None</td>\n",
       "      <td>35.035088</td>\n",
       "      <td>NaN</td>\n",
       "      <td>35.068310</td>\n",
       "      <td>-0.020708</td>\n",
       "      <td>-0.012511</td>\n",
       "    </tr>\n",
       "  </tbody>\n",
       "</table>\n",
       "</div>"
      ],
      "text/plain": [
       "                    ds     y      yhat1 residual1      trend  season_weekly  \\\n",
       "45 2019-02-15 19:10:59  None  35.068790       NaN  35.077515       0.003790   \n",
       "46 2019-02-16 19:10:59  None  35.049599       NaN  35.075211      -0.013101   \n",
       "47 2019-02-17 19:10:59  None  35.062599       NaN  35.072910       0.002200   \n",
       "48 2019-02-18 19:10:59  None  35.064034       NaN  35.070610       0.005935   \n",
       "49 2019-02-19 19:10:59  None  35.035088       NaN  35.068310      -0.020708   \n",
       "\n",
       "    season_daily  \n",
       "45     -0.012511  \n",
       "46     -0.012511  \n",
       "47     -0.012511  \n",
       "48     -0.012511  \n",
       "49     -0.012511  "
      ]
     },
     "execution_count": 50,
     "metadata": {},
     "output_type": "execute_result"
    }
   ],
   "source": [
    "#forcasting after we the model was trained\n",
    "futurequ=model.make_future_dataframe(npForDSR, periods=50)\n",
    "forcastQ=model.predict(futurequ)\n",
    "forcastQ.tail()"
   ]
  },
  {
   "cell_type": "code",
   "execution_count": 43,
   "id": "a6e54c82",
   "metadata": {},
   "outputs": [
    {
     "data": {
      "image/png": "[encoded data removed]",
      "text/plain": [
       "<Figure size 720x432 with 1 Axes>"
      ]
     },
     "metadata": {},
     "output_type": "display_data"
    }
   ],
   "source": [
    "plot1=mod.plot(forcastQ)"
   ]
  },
  {
   "cell_type": "code",
   "execution_count": 53,
   "id": "885ebc0f",
   "metadata": {},
   "outputs": [],
   "source": [
    "#dave dataframe as excel file for creating power bi dashboard\n",
    "forcastQ.to_excel('forcastDSR.xlsx')"
   ]
  },
  {
   "cell_type": "code",
   "execution_count": 46,
   "id": "e77ab342",
   "metadata": {},
   "outputs": [
    {
     "ename": "NameError",
     "evalue": "name 'npForDSR_train' is not defined",
     "output_type": "error",
     "traceback": [
      "\u001b[1;31m---------------------------------------------------------------------------\u001b[0m",
      "\u001b[1;31mNameError\u001b[0m                                 Traceback (most recent call last)",
      "\u001b[1;32m~\\AppData\\Local\\Temp/ipykernel_10528/2496326053.py\u001b[0m in \u001b[0;36m<module>\u001b[1;34m\u001b[0m\n\u001b[0;32m      1\u001b[0m \u001b[1;31m#training and validation metrics\u001b[0m\u001b[1;33m\u001b[0m\u001b[1;33m\u001b[0m\u001b[0m\n\u001b[1;32m----> 2\u001b[1;33m \u001b[0mtrain_metrics\u001b[0m\u001b[1;33m=\u001b[0m\u001b[0mmodel\u001b[0m\u001b[1;33m.\u001b[0m\u001b[0mfit\u001b[0m\u001b[1;33m(\u001b[0m\u001b[0mnpForDSR_train\u001b[0m\u001b[1;33m,\u001b[0m \u001b[0mfreq\u001b[0m\u001b[1;33m=\u001b[0m\u001b[1;34m'D'\u001b[0m\u001b[1;33m)\u001b[0m\u001b[1;33m\u001b[0m\u001b[1;33m\u001b[0m\u001b[0m\n\u001b[0m\u001b[0;32m      3\u001b[0m \u001b[0mtest_metrics\u001b[0m\u001b[1;33m=\u001b[0m \u001b[0mmodel\u001b[0m\u001b[1;33m.\u001b[0m\u001b[0mtest\u001b[0m\u001b[1;33m(\u001b[0m\u001b[0mnpForDSR_test\u001b[0m\u001b[1;33m)\u001b[0m\u001b[1;33m\u001b[0m\u001b[1;33m\u001b[0m\u001b[0m\n",
      "\u001b[1;31mNameError\u001b[0m: name 'npForDSR_train' is not defined"
     ]
    }
   ],
   "source": []
  },
  {
   "cell_type": "code",
   "execution_count": null,
   "id": "56a60295",
   "metadata": {},
   "outputs": [],
   "source": []
  }
 ],
 "metadata": {
  "kernelspec": {
   "display_name": "Python 3 (ipykernel)",
   "language": "python",
   "name": "python3"
  },
  "language_info": {
   "codemirror_mode": {
    "name": "ipython",
    "version": 3
   },
   "file_extension": ".py",
   "mimetype": "text/x-python",
   "name": "python",
   "nbconvert_exporter": "python",
   "pygments_lexer": "ipython3",
   "version": "3.9.7"
  }
 },
 "nbformat": 4,
 "nbformat_minor": 5
}
